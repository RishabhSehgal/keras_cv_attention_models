{
 "cells": [
  {
   "cell_type": "code",
   "execution_count": null,
   "metadata": {
    "collapsed": false,
    "scrolled": true
   },
   "outputs": [],
   "source": [
    "import os\n",
    "import tensorflow as tf\n",
    "import numpy as np\n",
    "import pandas as pd\n",
    "import matplotlib.pyplot as plt\n",
    "from tensorflow import keras"
   ]
  },
  {
   "cell_type": "code",
   "execution_count": null,
   "metadata": {
    "collapsed": false,
    "scrolled": true
   },
   "outputs": [],
   "source": [
    "# Will download and load `imagenet` pretrained weights.\n",
    "# Model weight is loaded with `by_name=True, skip_mismatch=True`.\n",
    "# include_preprocessing set True will add pre-processing Rescale + Normalization after Input. \n",
    "# Means using input value in range [0, 255]. Default value False means in range [-1, 1].\n",
    "\n",
    "from keras_cv_attention_models import efficientnet\n",
    "model = efficientnet.EfficientNetV2B0(pretrained=\"imagenet\", include_preprocessing=True) # value in range [0, 255]\n",
    "#model = efficientnet.EfficientNetV2B0(pretrained=\"imagenet\")\n",
    "\n",
    "\"\"\" Run predict \"\"\"\n",
    "import tensorflow as tf\n",
    "from tensorflow import keras\n",
    "from skimage.data import chelsea\n",
    "\n",
    "imm = tf.image.resize(chelsea(), model.input_shape[1:3]) # Chelsea the cat\n",
    "pred = model(tf.expand_dims(imm, 0)).numpy()  # value in range [0, 255]\n",
    "#pred = model(tf.expand_dims(imm / 128. - 1., 0)).numpy()\n",
    "print(keras.applications.imagenet_utils.decode_predictions(pred)[0])"
   ]
  },
  {
   "cell_type": "code",
   "execution_count": null,
   "metadata": {
    "collapsed": false
   },
   "outputs": [],
   "source": [
    "import tensorflow as tf\n",
    "print(tf.__version__)\n",
    "#from keras_cv_attention_models.efficientnet import progressive_train_test\n",
    "#os.environ['CUDA_VISIBLE_DEVICES'] = '3'\n",
    "os.environ['TF_XLA_FLAGS'] = \"--tf_xla_auto_jit=2\"\n",
    "\n",
    "print(\"Num GPUs Available: \", len(tf.config.experimental.list_physical_devices('GPU')))"
   ]
  },
  {
   "cell_type": "code",
   "execution_count": null,
   "metadata": {
    "collapsed": false,
    "scrolled": true
   },
   "outputs": [],
   "source": [
    "!python progressive_train_script.py \\\n",
    "-m efficientnet.EfficientNetV2B0 --summary --pretrained imagenet -d cifar10 --lr_decay_steps 36 -s effv2b0_preprocTrue_cifar10_224_progressive \\\n",
    "--progressive_epochs 10 20 30 -1 \\\n",
    "--progressive_input_shapes 128 160 192 224 \\\n",
    "--progressive_dropouts 0.1 0.2 0.3 0.4 \\\n",
    "--progressive_magnitudes 5 8 12 15 \\\n",
    "--progressive_batch_sizes 240 \\\n",
    "--seed 0"
   ]
  },
  {
   "cell_type": "code",
   "execution_count": null,
   "metadata": {
    "collapsed": false,
    "scrolled": true
   },
   "outputs": [],
   "source": [
    "%%bash\n",
    "\n",
    "CUDA_VISIBLE_DEVICES='3' TF_XLA_FLAGS=\"--tf_xla_auto_jit=2\" python ./progressive_train_script.py \\\n",
    "-m efficientnet.EfficientNetV2B0 --pretrained imagenet -d cifar10 --lr_decay_steps 36 -s effv2b0_cifar10_224_progressive \\\n",
    "--progressive_epochs 10 20 30 -1 \\\n",
    "--progressive_input_shapes 128 160 192 224 \\\n",
    "--progressive_dropouts 0.1 0.2 0.3 0.4 \\\n",
    "--progressive_magnitudes 5 8 12 15 \\\n",
    "--progressive_batch_sizes 240 \\\n",
    "--seed 0"
   ]
  },
  {
   "cell_type": "code",
   "execution_count": null,
   "metadata": {
    "collapsed": true
   },
   "outputs": [],
   "source": []
  }
 ],
 "metadata": {
  "kernelspec": {
   "display_name": "tf2.8-cudnn8.1-cuda11.2-py3.8",
   "language": "python",
   "name": "tf2.8-cudnn8.1-cuda11.2-py3.8"
  },
  "language_info": {
   "codemirror_mode": {
    "name": "ipython",
    "version": 3
   },
   "file_extension": ".py",
   "mimetype": "text/x-python",
   "name": "python",
   "nbconvert_exporter": "python",
   "pygments_lexer": "ipython3",
   "version": "3.8.13"
  }
 },
 "nbformat": 4,
 "nbformat_minor": 2
}
